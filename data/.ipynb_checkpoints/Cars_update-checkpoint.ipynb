{
 "cells": [
  {
   "cell_type": "code",
   "execution_count": 1,
   "metadata": {
    "collapsed": false
   },
   "outputs": [
    {
     "ename": "ImportError",
     "evalue": "No module named pandas",
     "output_type": "error",
     "traceback": [
      "\u001b[0;31m---------------------------------------------------------------------------\u001b[0m",
      "\u001b[0;31mImportError\u001b[0m                               Traceback (most recent call last)",
      "\u001b[0;32m<ipython-input-1-abe83cc87966>\u001b[0m in \u001b[0;36m<module>\u001b[0;34m()\u001b[0m\n\u001b[0;32m----> 1\u001b[0;31m \u001b[0;32mimport\u001b[0m \u001b[0mpandas\u001b[0m \u001b[0;32mas\u001b[0m \u001b[0mpd\u001b[0m\u001b[0;34m\u001b[0m\u001b[0m\n\u001b[0m\u001b[1;32m      2\u001b[0m \u001b[0;32mfrom\u001b[0m \u001b[0mpandas\u001b[0m \u001b[0;32mimport\u001b[0m \u001b[0mDataFrame\u001b[0m\u001b[0;34m\u001b[0m\u001b[0m\n\u001b[1;32m      3\u001b[0m \u001b[0;34m\u001b[0m\u001b[0m\n\u001b[1;32m      4\u001b[0m \u001b[0mdf\u001b[0m\u001b[0;34m=\u001b[0m \u001b[0mpd\u001b[0m\u001b[0;34m.\u001b[0m\u001b[0mread_csv\u001b[0m\u001b[0;34m(\u001b[0m\u001b[0;34m\"car_result1.csv\"\u001b[0m\u001b[0;34m)\u001b[0m\u001b[0;34m\u001b[0m\u001b[0m\n",
      "\u001b[0;31mImportError\u001b[0m: No module named pandas"
     ]
    }
   ],
   "source": [
    "import pandas as pd\n",
    "from pandas import DataFrame\n",
    "\n",
    "df= pd.read_csv(\"car_result1.csv\")"
   ]
  },
  {
   "cell_type": "code",
   "execution_count": null,
   "metadata": {
    "collapsed": false
   },
   "outputs": [],
   "source": [
    "print(df.columns)"
   ]
  },
  {
   "cell_type": "code",
   "execution_count": null,
   "metadata": {
    "collapsed": false
   },
   "outputs": [],
   "source": [
    "#filter 2014\n",
    "df['year'] = df['year'].astype(str)\n",
    "dn = df[df.year.str.contains('2014').fillna(False)]\n"
   ]
  },
  {
   "cell_type": "code",
   "execution_count": null,
   "metadata": {
    "collapsed": false
   },
   "outputs": [],
   "source": [
    "#filter negative price\n",
    "dn = dn[dn.car_price_usd >= 0]\n",
    "dn\n"
   ]
  },
  {
   "cell_type": "code",
   "execution_count": null,
   "metadata": {
    "collapsed": false
   },
   "outputs": [],
   "source": [
    "#filter Parliament VII\n",
    "dn = dn[dn.position != \"Депутат 7-го скликання\"]\n",
    "\n",
    "dn"
   ]
  },
  {
   "cell_type": "code",
   "execution_count": null,
   "metadata": {
    "collapsed": false
   },
   "outputs": [],
   "source": [
    "#filter NaN\n",
    "dn = dn[pd.notnull(dn['car_price_usd'])]\n"
   ]
  },
  {
   "cell_type": "code",
   "execution_count": null,
   "metadata": {
    "collapsed": false
   },
   "outputs": [],
   "source": [
    "# Create separate columтs for personal_cars_sum & family_cars_sum\n",
    "filtered = dn['car_price_usd'].groupby([df['name'], df['id'], df['office'], df['region'], df['income'], df['income_family'], df['bank_deps'], df['bank_deps_family'], df['position'], df['flat_area'], df['flat_area_family'], df['house_area'], df['house_area_family'], df['income_salary'],  df['income_salary_family'], df['cars_info'], df['cars_family_info'], df['owner_type']]).aggregate(sum).unstack().rename(columns={'cars_family_info': 'family_cars_sum','cars_info': 'personal_cars_sum' }).reset_index()\n",
    "print filtered "
   ]
  },
  {
   "cell_type": "code",
   "execution_count": null,
   "metadata": {
    "collapsed": false
   },
   "outputs": [],
   "source": [
    "print(filtered.columns)"
   ]
  },
  {
   "cell_type": "code",
   "execution_count": null,
   "metadata": {
    "collapsed": false
   },
   "outputs": [],
   "source": [
    "#Change NaN to 0\n",
    "filtered['family_cars_sum'].fillna(0, inplace=True)\n",
    "filtered['personal_cars_sum'].fillna(0, inplace=True)\n"
   ]
  },
  {
   "cell_type": "code",
   "execution_count": null,
   "metadata": {
    "collapsed": false
   },
   "outputs": [],
   "source": [
    "filtered['family_cars_sum'] = filtered['family_cars_sum'].round(0)\n",
    "filtered['personal_cars_sum'] = filtered['personal_cars_sum'].round(0)\n",
    "\n",
    "#general sum\n",
    "filtered['all_cars_sum']= filtered['family_cars_sum'] + filtered['personal_cars_sum']\n",
    "\n",
    "#general income \n",
    "\n",
    "filtered['all_income']= filtered['income'] + filtered['income_family']\n",
    "\n",
    "#car price in UAH, th\n",
    "filtered['family_cars_sum_uah']= filtered['family_cars_sum'] * 12\n",
    "filtered['family_cars_sum_uah'] = filtered['family_cars_sum_uah'] / 1000\n",
    "filtered['family_cars_sum_uah'] = filtered['family_cars_sum_uah'].round(0)\n",
    "\n",
    "filtered['personal_cars_sum_uah'] = filtered['personal_cars_sum'] * 12\n",
    "filtered['personal_cars_sum_uah'] = filtered['personal_cars_sum_uah'] / 1000\n",
    "filtered['personal_cars_sum_uah'] = filtered['personal_cars_sum_uah'].round(0)\n",
    "\n",
    "\n",
    "#car price in UAH,mln\n",
    "filtered['all_cars_sum_uah']= filtered['all_cars_sum'] * 12\n",
    "filtered['all_cars_sum_uah_mln']= filtered['all_cars_sum_uah'] / 1000000\n",
    "filtered['all_cars_sum_uah_mln']= filtered['all_cars_sum_uah_mln'].round(2)\n",
    "\n",
    "filtered"
   ]
  },
  {
   "cell_type": "code",
   "execution_count": null,
   "metadata": {
    "collapsed": false
   },
   "outputs": [],
   "source": [
    "filtered['monthly_salary'] = filtered.income_salary/12\n",
    "filtered['monthly_salary_family'] = filtered.income_salary_family/12\n",
    "filtered['monthly_salary'] = filtered['monthly_salary'].round(0)\n",
    "filtered['monthly_salary_family'] = filtered['monthly_salary_family'].round(0)\n",
    "\n",
    "#round \n",
    "filtered['flat_area'] = filtered['flat_area'].round(0)\n",
    "filtered['flat_area_family'] = filtered['flat_area_family'].round(0)\n",
    "filtered['house_area'] = filtered['house_area'].round(0)\n",
    "filtered['house_area_family'] = filtered['house_area_family'].round(0)\n",
    "filtered['bank_deps'] = filtered['bank_deps'].round(0)\n",
    "filtered['bank_deps_family'] = filtered['bank_deps_family'].round(0)\n",
    "\n",
    "#general salary\n",
    "filtered['all_salary']= filtered['monthly_salary_family'] + filtered['monthly_salary']\n",
    "\n",
    "#all deposits \n",
    "\n",
    "filtered['all_deps'] = filtered['bank_deps'] + filtered['bank_deps_family'] \n",
    "\n",
    "#general estate\n",
    "filtered['all_estate'] = filtered['flat_area'] + filtered['flat_area_family'] + filtered['house_area'] + filtered['house_area_family']\n",
    "filtered['all_flats'] = filtered['flat_area'] + filtered['flat_area_family']\n",
    "\n",
    "#filter same value in personal and family cars\n",
    "\n",
    "filtered = filtered[filtered.family_cars_sum != filtered.personal_cars_sum]\n",
    "\n",
    "filtered"
   ]
  },
  {
   "cell_type": "code",
   "execution_count": null,
   "metadata": {
    "collapsed": false
   },
   "outputs": [],
   "source": [
    "# owners of cars more than 1 mln UAH AND salary less than 100 000 UAH\n",
    "\n",
    "carMagnats = filtered[(filtered.all_cars_sum_uah_mln > 0.7) & (filtered.all_salary < 100000)]\n",
    "carMagnats"
   ]
  },
  {
   "cell_type": "code",
   "execution_count": null,
   "metadata": {
    "collapsed": true
   },
   "outputs": [],
   "source": [
    "gamedata = carMagnats.to_csv('game2.csv')"
   ]
  },
  {
   "cell_type": "code",
   "execution_count": null,
   "metadata": {
    "collapsed": false
   },
   "outputs": [],
   "source": [
    "# Filter for judges\n",
    "\n",
    "# judgesdata = filtered[filtered.position.str.contains('суддя').fillna(False)]\n",
    "\n",
    "#Potential corruption income. Income is more than 5 times bigger than salary\n",
    "# corIncome = judgesdata[judgesdata.income > judgesdata.income_salary * 3]\n",
    "# corIncome.sort('income', ascending=False)"
   ]
  },
  {
   "cell_type": "code",
   "execution_count": null,
   "metadata": {
    "collapsed": false
   },
   "outputs": [],
   "source": [
    "# suspicious car owners\n",
    "# carsjudges = judgesdata[(judgesdata.all_cars_sum_uah > judgesdata.all_salary * 36 )]\n",
    "# carsjudges.sort('all_cars_sum_uah', ascending=False)"
   ]
  },
  {
   "cell_type": "code",
   "execution_count": null,
   "metadata": {
    "collapsed": false
   },
   "outputs": [],
   "source": [
    "# suspicious flat owners\n",
    "# flatsjudges = judgesdata[(judgesdata['all_flats']> 250)]\n",
    "# flatsjudges.sort('all_flats', ascending=False)\n"
   ]
  },
  {
   "cell_type": "code",
   "execution_count": null,
   "metadata": {
    "collapsed": false
   },
   "outputs": [],
   "source": [
    "# Here comes the magic. I took already filtered data and counted the number of cases in each selection.\n",
    "#I converted this count into the data frame, and later on I merged that data into one big table according to office column.\n",
    "# So now it's much easier to see which court institutions have the biggest number of cases in each category.   \n",
    "\n",
    "# joCorIncome = corIncome.groupby('office')['name'].count().reset_index().rename(columns={'name': 'cor_income'})\n",
    "# joCars = carsjudges.groupby('office')['name'].count().reset_index().rename(columns={'name': 'cars'})\n",
    "# joFlats = flatsjudges.groupby('office')['name'].count().reset_index().rename(columns={'name': 'flats'})\n",
    "\n",
    "\n",
    "# categories1 = [joCorIncome, joCars, joFlats]\n",
    "# judges_office_data = reduce(lambda left,right: pd.merge(left,right,on='office', how='outer'), categories1)\n",
    "# judges_office_data= judges_office_data.fillna(0) #change NaN into 0\n",
    "# judges_office_data"
   ]
  },
  {
   "cell_type": "code",
   "execution_count": null,
   "metadata": {
    "collapsed": false
   },
   "outputs": [],
   "source": [
    "# The same goes for regions\n",
    "\n",
    "# jrCorIncome = corIncome.groupby('region')['name'].count().reset_index().rename(columns={'name': 'cor_income'})\n",
    "# jrCars = carsjudges.groupby('region')['name'].count().reset_index().rename(columns={'name': 'cars'})\n",
    "# jrFlats = flatsjudges.groupby('region')['name'].count().reset_index().rename(columns={'name': 'flats'})\n",
    "\n",
    "\n",
    "# categories1 = [jrCorIncome, jrCars, jrFlats]\n",
    "# judges_region_data = reduce(lambda left,right: pd.merge(left,right,on='region', how='outer'), categories1)\n",
    "# judges_region_data = judges_region_data.fillna(0) #change NaN into 0\n",
    "# judges_region_data "
   ]
  },
  {
   "cell_type": "code",
   "execution_count": null,
   "metadata": {
    "collapsed": false
   },
   "outputs": [],
   "source": [
    "# prosecdata = filtered[filtered.position.str.contains('прокурор').fillna(False)]\n",
    "# prosecdata\n",
    "# #Potential corruption income. Income is more than 5 times bigger than salary\n",
    "# pcorIncome = prosecdata[prosecdata.income > prosecdata.income_salary * 3]\n",
    "# pcorIncome.sort('income', ascending=False)"
   ]
  },
  {
   "cell_type": "code",
   "execution_count": null,
   "metadata": {
    "collapsed": false
   },
   "outputs": [],
   "source": [
    "# suspicious car owners\n",
    "# pcars = prosecdata[(prosecdata.all_cars_sum_uah > prosecdata.all_salary * 36 )]\n",
    "# pcars.sort('all_cars_sum_uah', ascending=False)"
   ]
  },
  {
   "cell_type": "code",
   "execution_count": null,
   "metadata": {
    "collapsed": false
   },
   "outputs": [],
   "source": [
    "# suspicious flat owners\n",
    "# pflats = prosecdata[(prosecdata['all_flats'] > 250)]\n",
    "# pflats.sort('all_flats', ascending=False)\n"
   ]
  },
  {
   "cell_type": "code",
   "execution_count": null,
   "metadata": {
    "collapsed": false
   },
   "outputs": [],
   "source": [
    "# poCorIncome = pcorIncome.groupby('office')['name'].count().reset_index().rename(columns={'name': 'cor_income'})\n",
    "# poCars = pcars.groupby('office')['name'].count().reset_index().rename(columns={'name': 'cars'})\n",
    "# poFlats = pflats.groupby('office')['name'].count().reset_index().rename(columns={'name': 'flats'})\n",
    "\n",
    "\n",
    "# categories3 = [poCorIncome, poCars, poFlats]\n",
    "# prosec_office_data = reduce(lambda left,right: pd.merge(left,right,on='office', how='outer'), categories3)\n",
    "# prosec_office_data = prosec_office_data.fillna(0) #change NaN into 0\n",
    "# prosec_office_data"
   ]
  },
  {
   "cell_type": "code",
   "execution_count": null,
   "metadata": {
    "collapsed": false
   },
   "outputs": [],
   "source": [
    "# The same goes for regions\n",
    "\n",
    "# prCorIncome = pcorIncome.groupby('region')['name'].count().reset_index().rename(columns={'name': 'cor_income'})\n",
    "# prCars = pcars.groupby('region')['name'].count().reset_index().rename(columns={'name': 'cars'})\n",
    "# prFlats = pflats.groupby('region')['name'].count().reset_index().rename(columns={'name': 'flats'})\n",
    "\n",
    "\n",
    "# categories4 = [prCorIncome, prCars, prFlats]\n",
    "# prosec_region_data = reduce(lambda left,right: pd.merge(left,right,on='region', how='outer'), categories4)\n",
    "# prosec_region_data = prosec_region_data.fillna(0) #change NaN into 0\n",
    "# prosec_region_data "
   ]
  },
  {
   "cell_type": "code",
   "execution_count": null,
   "metadata": {
    "collapsed": true
   },
   "outputs": [],
   "source": []
  }
 ],
 "metadata": {
  "kernelspec": {
   "display_name": "Python 2",
   "language": "python",
   "name": "python2"
  },
  "language_info": {
   "codemirror_mode": {
    "name": "ipython",
    "version": 2
   },
   "file_extension": ".py",
   "mimetype": "text/x-python",
   "name": "python",
   "nbconvert_exporter": "python",
   "pygments_lexer": "ipython2",
   "version": "2.7.10"
  }
 },
 "nbformat": 4,
 "nbformat_minor": 0
}
